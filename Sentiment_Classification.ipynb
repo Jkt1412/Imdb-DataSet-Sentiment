{
  "nbformat": 4,
  "nbformat_minor": 0,
  "metadata": {
    "colab": {
      "name": "Sentiment Classification.ipynb",
      "version": "0.3.2",
      "provenance": [],
      "collapsed_sections": [],
      "include_colab_link": true
    },
    "kernelspec": {
      "name": "python3",
      "display_name": "Python 3"
    },
    "accelerator": "GPU"
  },
  "cells": [
    {
      "cell_type": "markdown",
      "metadata": {
        "id": "view-in-github",
        "colab_type": "text"
      },
      "source": [
        "<a href=\"https://colab.research.google.com/github/Jkt1412/Imdb-DataSet-Sentiment/blob/master/Sentiment_Classification.ipynb\" target=\"_parent\"><img src=\"https://colab.research.google.com/assets/colab-badge.svg\" alt=\"Open In Colab\"/></a>"
      ]
    },
    {
      "metadata": {
        "id": "dgITkWVgi-AM",
        "colab_type": "code",
        "outputId": "5a9d84c4-0258-4dde-ee0c-66f00cc576ef",
        "colab": {
          "base_uri": "https://localhost:8080/",
          "height": 122
        }
      },
      "cell_type": "code",
      "source": [
        "from google.colab import drive\n",
        "drive.mount('./gdrive')"
      ],
      "execution_count": 0,
      "outputs": [
        {
          "output_type": "stream",
          "text": [
            "Go to this URL in a browser: https://accounts.google.com/o/oauth2/auth?client_id=947318989803-6bn6qk8qdgf4n4g3pfee6491hc0brc4i.apps.googleusercontent.com&redirect_uri=urn%3Aietf%3Awg%3Aoauth%3A2.0%3Aoob&scope=email%20https%3A%2F%2Fwww.googleapis.com%2Fauth%2Fdocs.test%20https%3A%2F%2Fwww.googleapis.com%2Fauth%2Fdrive%20https%3A%2F%2Fwww.googleapis.com%2Fauth%2Fdrive.photos.readonly%20https%3A%2F%2Fwww.googleapis.com%2Fauth%2Fpeopleapi.readonly&response_type=code\n",
            "\n",
            "Enter your authorization code:\n",
            "··········\n",
            "Mounted at ./gdrive\n"
          ],
          "name": "stdout"
        }
      ]
    },
    {
      "metadata": {
        "id": "L3okhR9gjduJ",
        "colab_type": "code",
        "outputId": "cc3b8b00-2ce5-4f57-eaf5-c766f170c6cb",
        "colab": {
          "base_uri": "https://localhost:8080/",
          "height": 34
        }
      },
      "cell_type": "code",
      "source": [
        "!ls"
      ],
      "execution_count": 0,
      "outputs": [
        {
          "output_type": "stream",
          "text": [
            "gdrive\tsample_data\n"
          ],
          "name": "stdout"
        }
      ]
    },
    {
      "metadata": {
        "id": "OBgHbBUhHAEG",
        "colab_type": "code",
        "outputId": "7b102334-9ae8-418d-ef31-52ce3b789c48",
        "colab": {
          "base_uri": "https://localhost:8080/",
          "height": 34
        }
      },
      "cell_type": "code",
      "source": [
        "cd Imdb\\ DataSet"
      ],
      "execution_count": 0,
      "outputs": [
        {
          "output_type": "stream",
          "text": [
            "/content/gdrive/My Drive/Colab Notebooks/Datasets/Imdb DataSet\n"
          ],
          "name": "stdout"
        }
      ]
    },
    {
      "metadata": {
        "id": "wHjfJzh1kAgR",
        "colab_type": "code",
        "outputId": "e9151fb9-8fae-49da-dc0b-49597f1a8b49",
        "colab": {
          "base_uri": "https://localhost:8080/",
          "height": 51
        }
      },
      "cell_type": "code",
      "source": [
        "cd gdrive/Colab\\ Notebooks/Datasets/Imdb\\ DataSet"
      ],
      "execution_count": 0,
      "outputs": [
        {
          "output_type": "stream",
          "text": [
            "[Errno 2] No such file or directory: 'gdrive/Colab Notebooks/Datasets/Imdb DataSet'\n",
            "/content\n"
          ],
          "name": "stdout"
        }
      ]
    },
    {
      "metadata": {
        "id": "UsB0QVl0kQUg",
        "colab_type": "code",
        "outputId": "35ef72b8-4603-4c88-ba5e-6855a4179cf9",
        "colab": {
          "base_uri": "https://localhost:8080/",
          "height": 34
        }
      },
      "cell_type": "code",
      "source": [
        "cd gdrive"
      ],
      "execution_count": 0,
      "outputs": [
        {
          "output_type": "stream",
          "text": [
            "/content/gdrive\n"
          ],
          "name": "stdout"
        }
      ]
    },
    {
      "metadata": {
        "id": "BtCln7SskSL0",
        "colab_type": "code",
        "outputId": "25a49652-d9c3-4848-f224-7f6dd142e5db",
        "colab": {
          "base_uri": "https://localhost:8080/",
          "height": 34
        }
      },
      "cell_type": "code",
      "source": [
        "!ls"
      ],
      "execution_count": 0,
      "outputs": [
        {
          "output_type": "stream",
          "text": [
            "'My Drive'\n"
          ],
          "name": "stdout"
        }
      ]
    },
    {
      "metadata": {
        "id": "6VkJ9-OPkS_p",
        "colab_type": "code",
        "outputId": "e6c6908d-6690-47b0-d0a4-91a33b5316e9",
        "colab": {
          "base_uri": "https://localhost:8080/",
          "height": 34
        }
      },
      "cell_type": "code",
      "source": [
        "cd My\\ Drive/Colab\\ Notebooks/Datasets/Imdb\\ DataSet"
      ],
      "execution_count": 0,
      "outputs": [
        {
          "output_type": "stream",
          "text": [
            "/content/gdrive/My Drive/Colab Notebooks/Datasets/Imdb DataSet\n"
          ],
          "name": "stdout"
        }
      ]
    },
    {
      "metadata": {
        "id": "vxTvwOOKkYnK",
        "colab_type": "code",
        "outputId": "47e7c70d-4349-4d6a-c189-84d7f92283ab",
        "colab": {
          "base_uri": "https://localhost:8080/",
          "height": 34
        }
      },
      "cell_type": "code",
      "source": [
        "!ls"
      ],
      "execution_count": 0,
      "outputs": [
        {
          "output_type": "stream",
          "text": [
            "aclImdb.rar\n"
          ],
          "name": "stdout"
        }
      ]
    },
    {
      "metadata": {
        "id": "kPDkoKAxkZ9V",
        "colab_type": "code",
        "outputId": "ebb3712c-d61b-430a-e1ef-ab605b4afb77",
        "colab": {
          "base_uri": "https://localhost:8080/",
          "height": 221
        }
      },
      "cell_type": "code",
      "source": [
        "!pip install pyunpack"
      ],
      "execution_count": 0,
      "outputs": [
        {
          "output_type": "stream",
          "text": [
            "Collecting pyunpack\n",
            "  Downloading https://files.pythonhosted.org/packages/79/dc/44cd41fb99d184ae7c2eac439a52ca624d5ece62b0302c3437fcc4ce3b58/pyunpack-0.1.2.tar.gz\n",
            "Collecting easyprocess (from pyunpack)\n",
            "  Downloading https://files.pythonhosted.org/packages/45/3a/4eecc0c7995a13a64739bbedc0d3691fc574245b7e79cff81905aa0c2b38/EasyProcess-0.2.5.tar.gz\n",
            "Building wheels for collected packages: pyunpack, easyprocess\n",
            "  Building wheel for pyunpack (setup.py) ... \u001b[?25ldone\n",
            "\u001b[?25h  Stored in directory: /root/.cache/pip/wheels/af/44/08/60613970881e542c0baad1f2dea5ed8e6716bc573f49197b7e\n",
            "  Building wheel for easyprocess (setup.py) ... \u001b[?25ldone\n",
            "\u001b[?25h  Stored in directory: /root/.cache/pip/wheels/41/22/19/af15ef6264c58b625a82641ed7483ad05e258fbd8925505227\n",
            "Successfully built pyunpack easyprocess\n",
            "Installing collected packages: easyprocess, pyunpack\n",
            "Successfully installed easyprocess-0.2.5 pyunpack-0.1.2\n"
          ],
          "name": "stdout"
        }
      ]
    },
    {
      "metadata": {
        "id": "WvDSlucSk_MX",
        "colab_type": "code",
        "outputId": "74bc1eba-08db-49c8-c3cc-b4ebd6c6c6ae",
        "colab": {
          "base_uri": "https://localhost:8080/",
          "height": 122
        }
      },
      "cell_type": "code",
      "source": [
        "!pip install patool"
      ],
      "execution_count": 0,
      "outputs": [
        {
          "output_type": "stream",
          "text": [
            "Collecting patool\n",
            "\u001b[?25l  Downloading https://files.pythonhosted.org/packages/43/94/52243ddff508780dd2d8110964320ab4851134a55ab102285b46e740f76a/patool-1.12-py2.py3-none-any.whl (77kB)\n",
            "\u001b[K    100% |████████████████████████████████| 81kB 3.2MB/s \n",
            "\u001b[?25hInstalling collected packages: patool\n",
            "Successfully installed patool-1.12\n"
          ],
          "name": "stdout"
        }
      ]
    },
    {
      "metadata": {
        "id": "2UF0MMSKlDzA",
        "colab_type": "code",
        "colab": {}
      },
      "cell_type": "code",
      "source": [
        "from pyunpack import Archive\n",
        "Archive('aclImdb.rar').extractall('./')"
      ],
      "execution_count": 0,
      "outputs": []
    },
    {
      "metadata": {
        "id": "lonArxcpl50t",
        "colab_type": "code",
        "outputId": "588b06f1-fcd4-4a98-ce85-f0d945b368a6",
        "colab": {
          "base_uri": "https://localhost:8080/",
          "height": 34
        }
      },
      "cell_type": "code",
      "source": [
        "cd gdrive/My\\ Drive/Colab\\ Notebooks/Datasets/Imdb\\ DataSet/aclImdb"
      ],
      "execution_count": 0,
      "outputs": [
        {
          "output_type": "stream",
          "text": [
            "/content/gdrive/My Drive/Colab Notebooks/Datasets/Imdb DataSet/aclImdb\n"
          ],
          "name": "stdout"
        }
      ]
    },
    {
      "metadata": {
        "id": "4Dpl_-fyHdQG",
        "colab_type": "text"
      },
      "cell_type": "markdown",
      "source": [
        "## Actual Code Starts from here, Before this extracting RAR file and coming to the desired directory"
      ]
    },
    {
      "metadata": {
        "id": "--OtiJWx_Nju",
        "colab_type": "code",
        "colab": {
          "base_uri": "https://localhost:8080/",
          "height": 122
        },
        "outputId": "cf816a35-6a21-4c32-baa9-ebbf4c299c29"
      },
      "cell_type": "code",
      "source": [
        "from google.colab import drive\n",
        "drive.mount('./gdrive')"
      ],
      "execution_count": 1,
      "outputs": [
        {
          "output_type": "stream",
          "text": [
            "Go to this URL in a browser: https://accounts.google.com/o/oauth2/auth?client_id=947318989803-6bn6qk8qdgf4n4g3pfee6491hc0brc4i.apps.googleusercontent.com&redirect_uri=urn%3Aietf%3Awg%3Aoauth%3A2.0%3Aoob&scope=email%20https%3A%2F%2Fwww.googleapis.com%2Fauth%2Fdocs.test%20https%3A%2F%2Fwww.googleapis.com%2Fauth%2Fdrive%20https%3A%2F%2Fwww.googleapis.com%2Fauth%2Fdrive.photos.readonly%20https%3A%2F%2Fwww.googleapis.com%2Fauth%2Fpeopleapi.readonly&response_type=code\n",
            "\n",
            "Enter your authorization code:\n",
            "··········\n",
            "Mounted at ./gdrive\n"
          ],
          "name": "stdout"
        }
      ]
    },
    {
      "metadata": {
        "id": "kjN3-xUvHkDh",
        "colab_type": "code",
        "outputId": "b3b5c22c-3cf8-40a5-a128-92077776610f",
        "colab": {
          "base_uri": "https://localhost:8080/",
          "height": 34
        }
      },
      "cell_type": "code",
      "source": [
        "cd gdrive/My\\ Drive/Colab\\ Notebooks/Datasets/Imdb\\ DataSet/aclImdb"
      ],
      "execution_count": 2,
      "outputs": [
        {
          "output_type": "stream",
          "text": [
            "/content/gdrive/My Drive/Colab Notebooks/Datasets/Imdb DataSet/aclImdb\n"
          ],
          "name": "stdout"
        }
      ]
    },
    {
      "metadata": {
        "id": "1VaaxJTMHtoO",
        "colab_type": "code",
        "colab": {}
      },
      "cell_type": "code",
      "source": [
        "import numpy as np\n",
        "import pandas as pd\n",
        "import nltk\n",
        "import tensorflow as tf\n",
        "import matplotlib.pyplot as plt\n",
        "%matplotlib inline"
      ],
      "execution_count": 0,
      "outputs": []
    },
    {
      "metadata": {
        "id": "Wd61e9dnIcKZ",
        "colab_type": "text"
      },
      "cell_type": "markdown",
      "source": [
        "!cd aclImdb && mkdir movie_data"
      ]
    },
    {
      "metadata": {
        "id": "fzxU4JVQTPXL",
        "colab_type": "text"
      },
      "cell_type": "markdown",
      "source": [
        "cd Imdb\\ DataSet/aclImdb"
      ]
    },
    {
      "metadata": {
        "id": "NZHP_sOWIhdB",
        "colab_type": "text"
      },
      "cell_type": "markdown",
      "source": [
        "!for split in test; do for sentiment in neg; do for file in $split/$sentiment/*; do cat $file >> movie_data/full_${split}.txt; echo >> movie_data/full_${split}.txt; done; done; done;"
      ]
    },
    {
      "metadata": {
        "id": "cJQhi7LhPsNJ",
        "colab_type": "code",
        "colab": {}
      },
      "cell_type": "code",
      "source": [
        "reviews_train = []\n",
        "for line in open(\"./movie_data/full_train.txt\",'r'):\n",
        "  reviews_train.append(line.strip())\n",
        "  \n",
        "reviews_test = []\n",
        "for line in open(\"./movie_data/full_test.txt\",'r'):\n",
        "  reviews_test.append(line.strip())"
      ],
      "execution_count": 0,
      "outputs": []
    },
    {
      "metadata": {
        "id": "hAMMhw66KnSC",
        "colab_type": "code",
        "colab": {}
      },
      "cell_type": "code",
      "source": [
        "l1 = [[1.0,0.0]] * 12500\n",
        "l2 = [[0.0,1.0]] * 12500\n",
        "labels = l1 + l2"
      ],
      "execution_count": 0,
      "outputs": []
    },
    {
      "metadata": {
        "id": "aMvSiyU5KoJD",
        "colab_type": "text"
      },
      "cell_type": "markdown",
      "source": [
        "*   reviews_train_with_labels = np.array([[i,j] for i,j in zip(reviews_train,labels)])\n",
        "*   reviews_test_with_labels = np.array([[i,j] for i,j in zip(reviews_test,labels)])"
      ]
    },
    {
      "metadata": {
        "id": "s9v6gHAOMS_T",
        "colab_type": "code",
        "colab": {}
      },
      "cell_type": "code",
      "source": [
        "import re\n",
        "\n",
        "REPLACE_NO_SPACE = re.compile(\"(\\.)|(\\;)|(\\:)|(\\!)|(\\')|(\\?)|(\\,)|(\\\")|(\\()|(\\))|(\\[)|(\\])\")\n",
        "REPLACE_WITH_SPACE = re.compile(\"(<br\\s*/><br\\s*/>)|(\\-)|(\\/)\")\n",
        "\n",
        "def preprocess(reviews):\n",
        "  reviews = [REPLACE_NO_SPACE.sub(\"\",line.lower()) for line in reviews]\n",
        "  reviews = [REPLACE_WITH_SPACE.sub(\" \",line) for line in reviews]\n",
        "  \n",
        "  return reviews"
      ],
      "execution_count": 0,
      "outputs": []
    },
    {
      "metadata": {
        "id": "rFEzW3aSSLrj",
        "colab_type": "code",
        "colab": {}
      },
      "cell_type": "code",
      "source": [
        "reviews_clean_train = preprocess(reviews_train) \n",
        "reviews_clean_test = preprocess(reviews_test) "
      ],
      "execution_count": 0,
      "outputs": []
    },
    {
      "metadata": {
        "id": "kgaPheEOUhpx",
        "colab_type": "code",
        "outputId": "9c84e099-8e49-4819-c7d9-f547f6bc01d9",
        "colab": {
          "base_uri": "https://localhost:8080/",
          "height": 68
        }
      },
      "cell_type": "code",
      "source": [
        "nltk.download('wordnet')"
      ],
      "execution_count": 8,
      "outputs": [
        {
          "output_type": "stream",
          "text": [
            "[nltk_data] Downloading package wordnet to /root/nltk_data...\n",
            "[nltk_data]   Package wordnet is already up-to-date!\n"
          ],
          "name": "stdout"
        },
        {
          "output_type": "execute_result",
          "data": {
            "text/plain": [
              "True"
            ]
          },
          "metadata": {
            "tags": []
          },
          "execution_count": 8
        }
      ]
    },
    {
      "metadata": {
        "id": "7KZYIbNKUsNy",
        "colab_type": "code",
        "colab": {}
      },
      "cell_type": "code",
      "source": [
        "tokenizer = nltk.tokenize.WhitespaceTokenizer()\n",
        "lemmatizer = nltk.stem.WordNetLemmatizer()\n",
        "lemmatized_review_train = []\n",
        "lemmatized_review_test = []\n",
        "for review in reviews_clean_train:\n",
        "  tokenized_text = tokenizer.tokenize(review)\n",
        "  lemmatized_text = [lemmatizer.lemmatize(words) for words in tokenized_text]\n",
        "  lemmatized_string = \" \".join(x for x in lemmatized_text)\n",
        "  lemmatized_review_train.append(lemmatized_string)\n",
        "  \n",
        "for review in reviews_clean_test:\n",
        "  tokenized_text = tokenizer.tokenize(review)\n",
        "  lemmatized_text = [lemmatizer.lemmatize(words) for words in tokenized_text]\n",
        "  lemmatized_string = \" \".join(x for x in lemmatized_text)\n",
        "  lemmatized_review_test.append(lemmatized_string)\n",
        "  \n",
        "  "
      ],
      "execution_count": 0,
      "outputs": []
    },
    {
      "metadata": {
        "id": "U41MIQzXWtA0",
        "colab_type": "code",
        "colab": {}
      },
      "cell_type": "code",
      "source": [
        "from sklearn.feature_extraction.text import TfidfVectorizer"
      ],
      "execution_count": 0,
      "outputs": []
    },
    {
      "metadata": {
        "id": "16YF3k5ZWt6H",
        "colab_type": "code",
        "colab": {}
      },
      "cell_type": "code",
      "source": [
        "tfidf_train = TfidfVectorizer(min_df = 100, max_df = 14000, ngram_range = (1,2))"
      ],
      "execution_count": 0,
      "outputs": []
    },
    {
      "metadata": {
        "id": "JiqKrg3QXgUp",
        "colab_type": "code",
        "colab": {}
      },
      "cell_type": "code",
      "source": [
        "features_train_idf = tfidf_train.fit_transform(lemmatized_review_train)"
      ],
      "execution_count": 0,
      "outputs": []
    },
    {
      "metadata": {
        "id": "Wujl3H2bXmRz",
        "colab_type": "code",
        "outputId": "ba00d20b-6b3f-441d-cb10-5223e157b72d",
        "colab": {
          "base_uri": "https://localhost:8080/",
          "height": 270
        }
      },
      "cell_type": "code",
      "source": [
        "pd.DataFrame(features_train_idf.todense(), columns = tfidf_train.get_feature_names()).head()"
      ],
      "execution_count": 13,
      "outputs": [
        {
          "output_type": "execute_result",
          "data": {
            "text/html": [
              "<div>\n",
              "<style scoped>\n",
              "    .dataframe tbody tr th:only-of-type {\n",
              "        vertical-align: middle;\n",
              "    }\n",
              "\n",
              "    .dataframe tbody tr th {\n",
              "        vertical-align: top;\n",
              "    }\n",
              "\n",
              "    .dataframe thead th {\n",
              "        text-align: right;\n",
              "    }\n",
              "</style>\n",
              "<table border=\"1\" class=\"dataframe\">\n",
              "  <thead>\n",
              "    <tr style=\"text-align: right;\">\n",
              "      <th></th>\n",
              "      <th>10</th>\n",
              "      <th>10 10</th>\n",
              "      <th>10 minute</th>\n",
              "      <th>10 out</th>\n",
              "      <th>10 star</th>\n",
              "      <th>10 year</th>\n",
              "      <th>100</th>\n",
              "      <th>11</th>\n",
              "      <th>12</th>\n",
              "      <th>13</th>\n",
              "      <th>...</th>\n",
              "      <th>youre looking</th>\n",
              "      <th>youre not</th>\n",
              "      <th>yourself</th>\n",
              "      <th>youth</th>\n",
              "      <th>youve</th>\n",
              "      <th>youve got</th>\n",
              "      <th>youve seen</th>\n",
              "      <th>zero</th>\n",
              "      <th>zombie</th>\n",
              "      <th>zone</th>\n",
              "    </tr>\n",
              "  </thead>\n",
              "  <tbody>\n",
              "    <tr>\n",
              "      <th>0</th>\n",
              "      <td>0.0</td>\n",
              "      <td>0.0</td>\n",
              "      <td>0.0</td>\n",
              "      <td>0.0</td>\n",
              "      <td>0.0</td>\n",
              "      <td>0.0</td>\n",
              "      <td>0.0</td>\n",
              "      <td>0.0</td>\n",
              "      <td>0.0</td>\n",
              "      <td>0.0</td>\n",
              "      <td>...</td>\n",
              "      <td>0.0</td>\n",
              "      <td>0.0</td>\n",
              "      <td>0.0</td>\n",
              "      <td>0.0</td>\n",
              "      <td>0.0</td>\n",
              "      <td>0.0</td>\n",
              "      <td>0.0</td>\n",
              "      <td>0.0</td>\n",
              "      <td>0.0</td>\n",
              "      <td>0.0</td>\n",
              "    </tr>\n",
              "    <tr>\n",
              "      <th>1</th>\n",
              "      <td>0.0</td>\n",
              "      <td>0.0</td>\n",
              "      <td>0.0</td>\n",
              "      <td>0.0</td>\n",
              "      <td>0.0</td>\n",
              "      <td>0.0</td>\n",
              "      <td>0.0</td>\n",
              "      <td>0.0</td>\n",
              "      <td>0.0</td>\n",
              "      <td>0.0</td>\n",
              "      <td>...</td>\n",
              "      <td>0.0</td>\n",
              "      <td>0.0</td>\n",
              "      <td>0.0</td>\n",
              "      <td>0.0</td>\n",
              "      <td>0.0</td>\n",
              "      <td>0.0</td>\n",
              "      <td>0.0</td>\n",
              "      <td>0.0</td>\n",
              "      <td>0.0</td>\n",
              "      <td>0.0</td>\n",
              "    </tr>\n",
              "    <tr>\n",
              "      <th>2</th>\n",
              "      <td>0.0</td>\n",
              "      <td>0.0</td>\n",
              "      <td>0.0</td>\n",
              "      <td>0.0</td>\n",
              "      <td>0.0</td>\n",
              "      <td>0.0</td>\n",
              "      <td>0.0</td>\n",
              "      <td>0.0</td>\n",
              "      <td>0.0</td>\n",
              "      <td>0.0</td>\n",
              "      <td>...</td>\n",
              "      <td>0.0</td>\n",
              "      <td>0.0</td>\n",
              "      <td>0.0</td>\n",
              "      <td>0.0</td>\n",
              "      <td>0.0</td>\n",
              "      <td>0.0</td>\n",
              "      <td>0.0</td>\n",
              "      <td>0.0</td>\n",
              "      <td>0.0</td>\n",
              "      <td>0.0</td>\n",
              "    </tr>\n",
              "    <tr>\n",
              "      <th>3</th>\n",
              "      <td>0.0</td>\n",
              "      <td>0.0</td>\n",
              "      <td>0.0</td>\n",
              "      <td>0.0</td>\n",
              "      <td>0.0</td>\n",
              "      <td>0.0</td>\n",
              "      <td>0.0</td>\n",
              "      <td>0.0</td>\n",
              "      <td>0.0</td>\n",
              "      <td>0.0</td>\n",
              "      <td>...</td>\n",
              "      <td>0.0</td>\n",
              "      <td>0.0</td>\n",
              "      <td>0.0</td>\n",
              "      <td>0.0</td>\n",
              "      <td>0.0</td>\n",
              "      <td>0.0</td>\n",
              "      <td>0.0</td>\n",
              "      <td>0.0</td>\n",
              "      <td>0.0</td>\n",
              "      <td>0.0</td>\n",
              "    </tr>\n",
              "    <tr>\n",
              "      <th>4</th>\n",
              "      <td>0.0</td>\n",
              "      <td>0.0</td>\n",
              "      <td>0.0</td>\n",
              "      <td>0.0</td>\n",
              "      <td>0.0</td>\n",
              "      <td>0.0</td>\n",
              "      <td>0.0</td>\n",
              "      <td>0.0</td>\n",
              "      <td>0.0</td>\n",
              "      <td>0.0</td>\n",
              "      <td>...</td>\n",
              "      <td>0.0</td>\n",
              "      <td>0.0</td>\n",
              "      <td>0.0</td>\n",
              "      <td>0.0</td>\n",
              "      <td>0.0</td>\n",
              "      <td>0.0</td>\n",
              "      <td>0.0</td>\n",
              "      <td>0.0</td>\n",
              "      <td>0.0</td>\n",
              "      <td>0.0</td>\n",
              "    </tr>\n",
              "  </tbody>\n",
              "</table>\n",
              "<p>5 rows × 8746 columns</p>\n",
              "</div>"
            ],
            "text/plain": [
              "    10  10 10  10 minute  10 out  10 star  10 year  100   11   12   13  ...   \\\n",
              "0  0.0    0.0        0.0     0.0      0.0      0.0  0.0  0.0  0.0  0.0  ...    \n",
              "1  0.0    0.0        0.0     0.0      0.0      0.0  0.0  0.0  0.0  0.0  ...    \n",
              "2  0.0    0.0        0.0     0.0      0.0      0.0  0.0  0.0  0.0  0.0  ...    \n",
              "3  0.0    0.0        0.0     0.0      0.0      0.0  0.0  0.0  0.0  0.0  ...    \n",
              "4  0.0    0.0        0.0     0.0      0.0      0.0  0.0  0.0  0.0  0.0  ...    \n",
              "\n",
              "   youre looking  youre not  yourself  youth  youve  youve got  youve seen  \\\n",
              "0            0.0        0.0       0.0    0.0    0.0        0.0         0.0   \n",
              "1            0.0        0.0       0.0    0.0    0.0        0.0         0.0   \n",
              "2            0.0        0.0       0.0    0.0    0.0        0.0         0.0   \n",
              "3            0.0        0.0       0.0    0.0    0.0        0.0         0.0   \n",
              "4            0.0        0.0       0.0    0.0    0.0        0.0         0.0   \n",
              "\n",
              "   zero  zombie  zone  \n",
              "0   0.0     0.0   0.0  \n",
              "1   0.0     0.0   0.0  \n",
              "2   0.0     0.0   0.0  \n",
              "3   0.0     0.0   0.0  \n",
              "4   0.0     0.0   0.0  \n",
              "\n",
              "[5 rows x 8746 columns]"
            ]
          },
          "metadata": {
            "tags": []
          },
          "execution_count": 13
        }
      ]
    },
    {
      "metadata": {
        "id": "ac9zuY6Peq6V",
        "colab_type": "code",
        "colab": {}
      },
      "cell_type": "code",
      "source": [
        "training_features = np.array(features_train_idf.todense())"
      ],
      "execution_count": 0,
      "outputs": []
    },
    {
      "metadata": {
        "id": "4qxOyXFmgZTw",
        "colab_type": "code",
        "colab": {}
      },
      "cell_type": "code",
      "source": [
        "def next_batch(features,batch_size):\n",
        "  random = np.random.randint(0,25000-batch_size-1)\n",
        "  return features[random:random+batch_size] , np.array(labels[random:random+batch_size])"
      ],
      "execution_count": 0,
      "outputs": []
    },
    {
      "metadata": {
        "id": "VayJPazMvQ2l",
        "colab_type": "code",
        "colab": {}
      },
      "cell_type": "code",
      "source": [
        "tf.reset_default_graph()"
      ],
      "execution_count": 0,
      "outputs": []
    },
    {
      "metadata": {
        "id": "txdAMOQuibob",
        "colab_type": "code",
        "colab": {}
      },
      "cell_type": "code",
      "source": [
        "num_batches = 1000\n",
        "num_hidden_neurons = 50\n",
        "learning_rate = 0.3\n",
        "num_features_train = int(training_features.shape[1])"
      ],
      "execution_count": 0,
      "outputs": []
    },
    {
      "metadata": {
        "id": "bgXG9cw5gtAz",
        "colab_type": "code",
        "colab": {}
      },
      "cell_type": "code",
      "source": [
        "X = tf.placeholder(tf.float32,shape = [None,num_features_train])\n",
        "y_true = tf.placeholder(tf.float32,shape = [None,2])"
      ],
      "execution_count": 0,
      "outputs": []
    },
    {
      "metadata": {
        "id": "paisfpGEhiyE",
        "colab_type": "code",
        "colab": {}
      },
      "cell_type": "code",
      "source": [
        "from tensorflow.contrib.layers import fully_connected"
      ],
      "execution_count": 0,
      "outputs": []
    },
    {
      "metadata": {
        "id": "CzKOBPvOiNIM",
        "colab_type": "code",
        "colab": {}
      },
      "cell_type": "code",
      "source": [
        "output = fully_connected(X,num_outputs=2,activation_fn = tf.nn.sigmoid)"
      ],
      "execution_count": 0,
      "outputs": []
    },
    {
      "metadata": {
        "id": "WQwNAGzNjOkU",
        "colab_type": "code",
        "colab": {}
      },
      "cell_type": "code",
      "source": [
        "#cross_entropy_loss = tf.nn.softmax_cross_entropy_with_logits(labels = y_true,logits = output)\n",
        "mse = tf.reduce_mean(tf.square(output-y_true))\n",
        "optimizer = tf.train.GradientDescentOptimizer(learning_rate = learning_rate)\n",
        "train = optimizer.minimize(mse)"
      ],
      "execution_count": 0,
      "outputs": []
    },
    {
      "metadata": {
        "id": "M7NyC7XGjch7",
        "colab_type": "code",
        "colab": {}
      },
      "cell_type": "code",
      "source": [
        "init = tf.global_variables_initializer()"
      ],
      "execution_count": 0,
      "outputs": []
    },
    {
      "metadata": {
        "id": "pxtys--XnQuR",
        "colab_type": "code",
        "outputId": "af4edbae-96be-48e4-ee98-af43e930456f",
        "colab": {
          "base_uri": "https://localhost:8080/",
          "height": 289
        }
      },
      "cell_type": "code",
      "source": [
        "with tf.Session() as sess:\n",
        "  sess.run(init)\n",
        "  \n",
        "  iterations = 10000\n",
        "  for i in range(iterations):\n",
        "    batch_x,batch_y = next_batch(training_features,num_batches)\n",
        "    sess.run(train,feed_dict = {X:batch_x,y_true:batch_y})\n",
        "      \n",
        "    if i%2500 == 0:\n",
        "      matches = tf.equal(tf.argmax(y_true,1),tf.argmax(output,1))\n",
        "      acc = tf.reduce_mean(tf.cast(matches,tf.float32))\n",
        "      accuracy = sess.run(acc,feed_dict ={X:training_features,y_true:np.array(labels)})\n",
        "      print(\"Accuracy is: \")\n",
        "      print(accuracy)\n",
        "      print(\"\\n\")\n",
        "  \n",
        "  "
      ],
      "execution_count": 56,
      "outputs": [
        {
          "output_type": "stream",
          "text": [
            "Accuracy is: \n",
            "0.5\n",
            "\n",
            "\n",
            "Accuracy is: \n",
            "0.74664\n",
            "\n",
            "\n",
            "Accuracy is: \n",
            "0.8256\n",
            "\n",
            "\n",
            "Accuracy is: \n",
            "0.8372\n",
            "\n",
            "\n"
          ],
          "name": "stdout"
        }
      ]
    },
    {
      "metadata": {
        "id": "5r4Fh1lAuHDq",
        "colab_type": "code",
        "colab": {}
      },
      "cell_type": "code",
      "source": [
        ""
      ],
      "execution_count": 0,
      "outputs": []
    }
  ]
}